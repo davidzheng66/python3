{
  "nbformat": 4,
  "nbformat_minor": 0,
  "metadata": {
    "colab": {
      "name": "Untitled14.ipynb",
      "provenance": [],
      "authorship_tag": "ABX9TyPbWAXJ1Ic8b8u1Np5fUthj",
      "include_colab_link": true
    },
    "kernelspec": {
      "name": "python3",
      "display_name": "Python 3"
    },
    "language_info": {
      "name": "python"
    }
  },
  "cells": [
    {
      "cell_type": "markdown",
      "metadata": {
        "id": "view-in-github",
        "colab_type": "text"
      },
      "source": [
        "<a href=\"https://colab.research.google.com/github/davidzheng66/python3/blob/master/crypto/udemy/caesercipher.ipynb\" target=\"_parent\"><img src=\"https://colab.research.google.com/assets/colab-badge.svg\" alt=\"Open In Colab\"/></a>"
      ]
    },
    {
      "cell_type": "code",
      "metadata": {
        "colab": {
          "base_uri": "https://localhost:8080/"
        },
        "id": "ilFIXTTac-in",
        "outputId": "ff602237-efb5-4c22-a0f9-dc6e1c80058e"
      },
      "source": [
        "def generate_key(n):\n",
        "    letters = 'ABCDEFGHIJKLMNOPQRSTUVWXYZ'\n",
        "    key = {}\n",
        "    cnt = 0\n",
        "    for c in letters:\n",
        "        key[c] = letters[(cnt + n) % len(letters)]\n",
        "        cnt += 1\n",
        "    return key\n",
        "\n",
        "def get_decryption_key(key):\n",
        "    dkey = {}\n",
        "    for c in key:        \n",
        "        dkey[key[c]] = c\n",
        "    return dkey\n",
        "\n",
        "def encrypt(key, message):\n",
        "    cipher = ''\n",
        "    for c in message:\n",
        "        if c in key:\n",
        "            cipher += key[c]\n",
        "        else:\n",
        "            cipher += c\n",
        "    return cipher\n",
        "\n",
        "key = generate_key(3)\n",
        "print(\"Key: \\n\", key)\n",
        "\n",
        "dkey = get_decryption_key(key)\n",
        "print('dkey: \\n', dkey)\n",
        "\n",
        "message = \"YOU ARE AWESOME1\"\n",
        "print('message: ', message)\n",
        "\n",
        "cipher = encrypt(key, message)\n",
        "print(\"cipher: \", cipher)\n",
        "\n",
        "# dkey = generate_key(26-3)\n",
        "# print('dkey: ', dkey)\n",
        "\n",
        "message = encrypt(dkey, cipher)\n",
        "print(\"message: \", message)\n",
        "\n",
        "# this is us breaking the cipher\n",
        "for i in range(26):\n",
        "    # insert code here\n",
        "    dkey = generate_key(i)\n",
        "    message = encrypt(dkey, cipher)\n",
        "    print(i, ' : ', message)\n"
      ],
      "execution_count": 3,
      "outputs": [
        {
          "output_type": "stream",
          "text": [
            "Key: \n",
            " {'A': 'D', 'B': 'E', 'C': 'F', 'D': 'G', 'E': 'H', 'F': 'I', 'G': 'J', 'H': 'K', 'I': 'L', 'J': 'M', 'K': 'N', 'L': 'O', 'M': 'P', 'N': 'Q', 'O': 'R', 'P': 'S', 'Q': 'T', 'R': 'U', 'S': 'V', 'T': 'W', 'U': 'X', 'V': 'Y', 'W': 'Z', 'X': 'A', 'Y': 'B', 'Z': 'C'}\n",
            "dkey: \n",
            " {'D': 'A', 'E': 'B', 'F': 'C', 'G': 'D', 'H': 'E', 'I': 'F', 'J': 'G', 'K': 'H', 'L': 'I', 'M': 'J', 'N': 'K', 'O': 'L', 'P': 'M', 'Q': 'N', 'R': 'O', 'S': 'P', 'T': 'Q', 'U': 'R', 'V': 'S', 'W': 'T', 'X': 'U', 'Y': 'V', 'Z': 'W', 'A': 'X', 'B': 'Y', 'C': 'Z'}\n",
            "message:  YOU ARE AWESOME1\n",
            "cipher:  BRX DUH DZHVRPH1\n",
            "message:  YOU ARE AWESOME1\n",
            "0  :  BRX DUH DZHVRPH1\n",
            "1  :  CSY EVI EAIWSQI1\n",
            "2  :  DTZ FWJ FBJXTRJ1\n",
            "3  :  EUA GXK GCKYUSK1\n",
            "4  :  FVB HYL HDLZVTL1\n",
            "5  :  GWC IZM IEMAWUM1\n",
            "6  :  HXD JAN JFNBXVN1\n",
            "7  :  IYE KBO KGOCYWO1\n",
            "8  :  JZF LCP LHPDZXP1\n",
            "9  :  KAG MDQ MIQEAYQ1\n",
            "10  :  LBH NER NJRFBZR1\n",
            "11  :  MCI OFS OKSGCAS1\n",
            "12  :  NDJ PGT PLTHDBT1\n",
            "13  :  OEK QHU QMUIECU1\n",
            "14  :  PFL RIV RNVJFDV1\n",
            "15  :  QGM SJW SOWKGEW1\n",
            "16  :  RHN TKX TPXLHFX1\n",
            "17  :  SIO ULY UQYMIGY1\n",
            "18  :  TJP VMZ VRZNJHZ1\n",
            "19  :  UKQ WNA WSAOKIA1\n",
            "20  :  VLR XOB XTBPLJB1\n",
            "21  :  WMS YPC YUCQMKC1\n",
            "22  :  XNT ZQD ZVDRNLD1\n",
            "23  :  YOU ARE AWESOME1\n",
            "24  :  ZPV BSF BXFTPNF1\n",
            "25  :  AQW CTG CYGUQOG1\n"
          ],
          "name": "stdout"
        }
      ]
    }
  ]
}